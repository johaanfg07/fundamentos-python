{
 "cells": [
  {
   "cell_type": "code",
   "execution_count": 1,
   "metadata": {},
   "outputs": [
    {
     "name": "stdout",
     "output_type": "stream",
     "text": [
      "Mano tengo fe\n"
     ]
    }
   ],
   "source": [
    "print (\"Mano tengo fe\")"
   ]
  },
  {
   "cell_type": "markdown",
   "metadata": {},
   "source": [
    "### Clases de python\n",
    "- variables\n",
    "- operadores matematicos\n",
    "- operadores de comparación\n",
    "- operadores logicos\n",
    "- condicionales\n",
    "\n",
    "Contenido de la primera clase"
   ]
  },
  {
   "cell_type": "markdown",
   "metadata": {},
   "source": [
    "## Variables"
   ]
  },
  {
   "cell_type": "code",
   "execution_count": 2,
   "metadata": {},
   "outputs": [],
   "source": [
    "name = \"josefino\" # cadena de caracteres / string"
   ]
  },
  {
   "cell_type": "code",
   "execution_count": 3,
   "metadata": {},
   "outputs": [
    {
     "data": {
      "text/plain": [
       "'josefino'"
      ]
     },
     "execution_count": 3,
     "metadata": {},
     "output_type": "execute_result"
    }
   ],
   "source": [
    "name"
   ]
  },
  {
   "cell_type": "code",
   "execution_count": 4,
   "metadata": {},
   "outputs": [],
   "source": [
    "Name = \"ruperto\""
   ]
  },
  {
   "cell_type": "code",
   "execution_count": 10,
   "metadata": {},
   "outputs": [],
   "source": [
    "ln = \"segundo\" # mala practica\n",
    "last_name = \"primera\"\n",
    "LastName = \"primero\"\n",
    "# last-name = \"primera\"\n",
    "# last.name = \"primero\"\n",
    "LASTname = \"primero\""
   ]
  },
  {
   "cell_type": "code",
   "execution_count": 8,
   "metadata": {},
   "outputs": [],
   "source": [
    "# asignación de variables\n",
    "\n",
    "number_1 = 22\n",
    "number_2 = 10\n",
    "\n",
    "# operaciones\n",
    "sum = number_1 + number_2\n",
    "substract = number_1 - number_2\n",
    "multi = number_1 * number_2\n",
    "div = number_1 / number_2\n",
    "\n"
   ]
  },
  {
   "cell_type": "code",
   "execution_count": 13,
   "metadata": {},
   "outputs": [
    {
     "name": "stdout",
     "output_type": "stream",
     "text": [
      "32\n",
      "12\n",
      "220\n",
      "2.2\n"
     ]
    }
   ],
   "source": [
    "# resultados\n",
    "print(sum)\n",
    "print(substract)\n",
    "print(multi)\n",
    "print(div)"
   ]
  },
  {
   "cell_type": "code",
   "execution_count": 19,
   "metadata": {},
   "outputs": [
    {
     "name": "stdout",
     "output_type": "stream",
     "text": [
      "resultado de la suma es: 32\n",
      "resultado de la resta es: 12\n",
      "resultado de la multiplicacion 220\n",
      "resultado de la division 2.2\n"
     ]
    }
   ],
   "source": [
    "# resultados comentados\n",
    "print(f\"resultado de la suma es: {sum}\") \n",
    "print(f\"resultado de la resta es: {substract}\")\n",
    "print(f\"resultado de la multiplicacion {multi}\")\n",
    "print(f\"resultado de la division {div}\")"
   ]
  },
  {
   "cell_type": "code",
   "execution_count": 20,
   "metadata": {},
   "outputs": [
    {
     "name": "stdout",
     "output_type": "stream",
     "text": [
      "<class 'str'>\n",
      "<class 'int'>\n",
      "<class 'float'>\n"
     ]
    }
   ],
   "source": [
    "# tipos de datos en python\n",
    "print (type (last_name))\n",
    "print (type (number_1))\n",
    "print (type (div))"
   ]
  },
  {
   "cell_type": "code",
   "execution_count": 31,
   "metadata": {},
   "outputs": [
    {
     "name": "stdout",
     "output_type": "stream",
     "text": [
      "resultado de la suma es: 25.8\n",
      "resultado de la resta es: -4.800000000000001\n",
      "resultado de la multiplicacion 160.65\n",
      "resultado de la division 0.6862745098039216\n"
     ]
    }
   ],
   "source": [
    "# asignación de variables\n",
    "# float para calculos decimales, int para enteros\n",
    "number_1 = input(\"ingrese number_1: \")\n",
    "number_1 = float(number_1)\n",
    "number_2 = input(\"ingrese number_2: \")\n",
    "number_2 = float(number_2)\n",
    "\n",
    "# operaciones\n",
    "sum = number_1 + number_2\n",
    "substract = number_1 - number_2\n",
    "multi = number_1 * number_2\n",
    "div = number_1 / number_2\n",
    "\n",
    "# resultados comentados\n",
    "print(f\"resultado de la suma es: {sum}\") \n",
    "print(f\"resultado de la resta es: {substract}\")\n",
    "print(f\"resultado de la multiplicacion {multi}\")\n",
    "print(f\"resultado de la division {div}\")"
   ]
  },
  {
   "cell_type": "code",
   "execution_count": 23,
   "metadata": {},
   "outputs": [
    {
     "name": "stdout",
     "output_type": "stream",
     "text": [
      "hola 22\n"
     ]
    },
    {
     "data": {
      "text/plain": [
       "str"
      ]
     },
     "execution_count": 23,
     "metadata": {},
     "output_type": "execute_result"
    }
   ],
   "source": [
    "name_1 = input (\"nombre:\")\n",
    "print(\"hola\", name_1)\n",
    "type(name_1)"
   ]
  }
 ],
 "metadata": {
  "kernelspec": {
   "display_name": "Python 3",
   "language": "python",
   "name": "python3"
  },
  "language_info": {
   "codemirror_mode": {
    "name": "ipython",
    "version": 3
   },
   "file_extension": ".py",
   "mimetype": "text/x-python",
   "name": "python",
   "nbconvert_exporter": "python",
   "pygments_lexer": "ipython3",
   "version": "3.12.4"
  }
 },
 "nbformat": 4,
 "nbformat_minor": 2
}
