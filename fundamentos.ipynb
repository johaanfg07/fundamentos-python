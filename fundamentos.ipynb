{
 "cells": [
  {
   "cell_type": "code",
   "execution_count": 31,
   "metadata": {},
   "outputs": [
    {
     "name": "stdout",
     "output_type": "stream",
     "text": [
      "Mano tengo fe\n"
     ]
    }
   ],
   "source": [
    "print (\"Mano tengo fe\")"
   ]
  },
  {
   "cell_type": "markdown",
   "metadata": {},
   "source": [
    "### Clases de python\n",
    "- variables\n",
    "- operadores matematicos\n",
    "- operadores de comparación\n",
    "- operadores logicos\n",
    "- condicionales\n",
    "\n",
    "Contenido de la primera clase"
   ]
  },
  {
   "cell_type": "markdown",
   "metadata": {},
   "source": [
    "## Variables"
   ]
  },
  {
   "cell_type": "code",
   "execution_count": 32,
   "metadata": {},
   "outputs": [],
   "source": [
    "name = \"josefino\" # cadena de caracteres / string"
   ]
  },
  {
   "cell_type": "code",
   "execution_count": 33,
   "metadata": {},
   "outputs": [
    {
     "data": {
      "text/plain": [
       "'josefino'"
      ]
     },
     "execution_count": 33,
     "metadata": {},
     "output_type": "execute_result"
    }
   ],
   "source": [
    "name"
   ]
  },
  {
   "cell_type": "code",
   "execution_count": 34,
   "metadata": {},
   "outputs": [],
   "source": [
    "Name = \"ruperto\""
   ]
  },
  {
   "cell_type": "code",
   "execution_count": 35,
   "metadata": {},
   "outputs": [],
   "source": [
    "ln = \"segundo\" # mala practica\n",
    "last_name = \"primera\"\n",
    "LastName = \"primero\"\n",
    "# last-name = \"primera\"\n",
    "# last.name = \"primero\"\n",
    "LASTname = \"primero\""
   ]
  },
  {
   "cell_type": "code",
   "execution_count": 36,
   "metadata": {},
   "outputs": [],
   "source": [
    "# asignación de variables\n",
    "\n",
    "number_1 = 22\n",
    "number_2 = 10\n",
    "\n",
    "# operaciones\n",
    "sum = number_1 + number_2\n",
    "substract = number_1 - number_2\n",
    "multi = number_1 * number_2\n",
    "div = number_1 / number_2\n",
    "\n"
   ]
  },
  {
   "cell_type": "code",
   "execution_count": 37,
   "metadata": {},
   "outputs": [
    {
     "name": "stdout",
     "output_type": "stream",
     "text": [
      "32\n",
      "12\n",
      "220\n",
      "2.2\n"
     ]
    }
   ],
   "source": [
    "# resultados\n",
    "print(sum)\n",
    "print(substract)\n",
    "print(multi)\n",
    "print(div)"
   ]
  },
  {
   "cell_type": "code",
   "execution_count": 38,
   "metadata": {},
   "outputs": [
    {
     "name": "stdout",
     "output_type": "stream",
     "text": [
      "resultado de la suma es: 32\n",
      "resultado de la resta es: 12\n",
      "resultado de la multiplicacion 220\n",
      "resultado de la division 2.2\n"
     ]
    }
   ],
   "source": [
    "# resultados comentados\n",
    "print(f\"resultado de la suma es: {sum}\") \n",
    "print(f\"resultado de la resta es: {substract}\")\n",
    "print(f\"resultado de la multiplicacion {multi}\")\n",
    "print(f\"resultado de la division {div}\")"
   ]
  },
  {
   "cell_type": "code",
   "execution_count": 39,
   "metadata": {},
   "outputs": [
    {
     "name": "stdout",
     "output_type": "stream",
     "text": [
      "<class 'str'>\n",
      "<class 'int'>\n",
      "<class 'float'>\n"
     ]
    }
   ],
   "source": [
    "# tipos de datos en python\n",
    "print (type (last_name))\n",
    "print (type (number_1))\n",
    "print (type (div))"
   ]
  },
  {
   "cell_type": "code",
   "execution_count": 40,
   "metadata": {},
   "outputs": [
    {
     "ename": "ValueError",
     "evalue": "could not convert string to float: ''",
     "output_type": "error",
     "traceback": [
      "\u001b[1;31m---------------------------------------------------------------------------\u001b[0m",
      "\u001b[1;31mValueError\u001b[0m                                Traceback (most recent call last)",
      "Cell \u001b[1;32mIn[40], line 4\u001b[0m\n\u001b[0;32m      1\u001b[0m \u001b[38;5;66;03m# asignación de variables\u001b[39;00m\n\u001b[0;32m      2\u001b[0m \u001b[38;5;66;03m# float para calculos decimales, int para enteros\u001b[39;00m\n\u001b[0;32m      3\u001b[0m number_1 \u001b[38;5;241m=\u001b[39m \u001b[38;5;28minput\u001b[39m(\u001b[38;5;124m\"\u001b[39m\u001b[38;5;124mingrese number_1: 22.5 \u001b[39m\u001b[38;5;124m\"\u001b[39m)\n\u001b[1;32m----> 4\u001b[0m number_1 \u001b[38;5;241m=\u001b[39m \u001b[38;5;28;43mfloat\u001b[39;49m\u001b[43m(\u001b[49m\u001b[43mnumber_1\u001b[49m\u001b[43m)\u001b[49m\n\u001b[0;32m      5\u001b[0m number_2 \u001b[38;5;241m=\u001b[39m \u001b[38;5;28minput\u001b[39m(\u001b[38;5;124m\"\u001b[39m\u001b[38;5;124mingrese number_2: 10.3 \u001b[39m\u001b[38;5;124m\"\u001b[39m)\n\u001b[0;32m      6\u001b[0m number_2 \u001b[38;5;241m=\u001b[39m \u001b[38;5;28mfloat\u001b[39m(number_2)\n",
      "\u001b[1;31mValueError\u001b[0m: could not convert string to float: ''"
     ]
    }
   ],
   "source": [
    "# asignación de variables\n",
    "# float para calculos decimales, int para enteros\n",
    "number_1 = input(\"ingrese number_1: 22.5 \")\n",
    "number_1 = float(number_1)\n",
    "number_2 = input(\"ingrese number_2: 10.3 \")\n",
    "number_2 = float(number_2)\n",
    "\n",
    "# operaciones\n",
    "sum = number_1 + number_2\n",
    "substract = number_1 - number_2\n",
    "multi = number_1 * number_2\n",
    "div = number_1 / number_2\n",
    "\n",
    "# resultados comentados\n",
    "print(f\"resultado de la suma es: {sum}\") \n",
    "print(f\"resultado de la resta es: {substract}\")\n",
    "print(f\"resultado de la multiplicacion {multi}\")\n",
    "print(f\"resultado de la division {div}\")"
   ]
  },
  {
   "cell_type": "code",
   "execution_count": null,
   "metadata": {},
   "outputs": [
    {
     "name": "stdout",
     "output_type": "stream",
     "text": [
      "hola 22\n"
     ]
    },
    {
     "data": {
      "text/plain": [
       "str"
      ]
     },
     "execution_count": 23,
     "metadata": {},
     "output_type": "execute_result"
    }
   ],
   "source": [
    "name_1 = input (\"nombre:\")\n",
    "print(\"hola\", name_1)\n",
    "type(name_1)"
   ]
  },
  {
   "cell_type": "code",
   "execution_count": null,
   "metadata": {},
   "outputs": [
    {
     "name": "stdout",
     "output_type": "stream",
     "text": [
      "hola, como estas? johan\n"
     ]
    }
   ],
   "source": [
    "nombre_1 = input (\"johan\")\n",
    "print (\"hola, como estas?\", nombre_1)"
   ]
  },
  {
   "cell_type": "code",
   "execution_count": null,
   "metadata": {},
   "outputs": [],
   "source": [
    "# listas\n",
    "# int\n",
    "# float \n",
    "# strings\n",
    "\n",
    "list_1 = [\"jose\", \"maria\", \"juan\", 12, 14, 15, 20, 9.3 ]"
   ]
  },
  {
   "cell_type": "code",
   "execution_count": null,
   "metadata": {},
   "outputs": [
    {
     "data": {
      "text/plain": [
       "['jose', 'maria', 'juan', 12, 14, 15, 20, 9.3]"
      ]
     },
     "execution_count": 35,
     "metadata": {},
     "output_type": "execute_result"
    }
   ],
   "source": [
    "list_1"
   ]
  },
  {
   "cell_type": "code",
   "execution_count": null,
   "metadata": {},
   "outputs": [
    {
     "data": {
      "text/plain": [
       "['jose', 'maria', 'juan']"
      ]
     },
     "execution_count": 37,
     "metadata": {},
     "output_type": "execute_result"
    }
   ],
   "source": [
    "# [start:stop]\n",
    "names_list = list_1 [0:3]"
   ]
  },
  {
   "cell_type": "code",
   "execution_count": null,
   "metadata": {},
   "outputs": [
    {
     "data": {
      "text/plain": [
       "[12, 14, 15]"
      ]
     },
     "execution_count": 42,
     "metadata": {},
     "output_type": "execute_result"
    }
   ],
   "source": [
    "#integers_list \n",
    "list_1[3:6]"
   ]
  },
  {
   "cell_type": "code",
   "execution_count": null,
   "metadata": {},
   "outputs": [
    {
     "ename": "NameError",
     "evalue": "name 'list_1' is not defined",
     "output_type": "error",
     "traceback": [
      "\u001b[1;31m---------------------------------------------------------------------------\u001b[0m",
      "\u001b[1;31mNameError\u001b[0m                                 Traceback (most recent call last)",
      "Cell \u001b[1;32mIn[16], line 1\u001b[0m\n\u001b[1;32m----> 1\u001b[0m float_list \u001b[38;5;241m=\u001b[39m \u001b[43mlist_1\u001b[49m [\u001b[38;5;241m-\u001b[39m\u001b[38;5;241m1\u001b[39m]\n",
      "\u001b[1;31mNameError\u001b[0m: name 'list_1' is not defined"
     ]
    }
   ],
   "source": [
    "float_list = list_1 [-1]"
   ]
  },
  {
   "cell_type": "code",
   "execution_count": null,
   "metadata": {},
   "outputs": [
    {
     "data": {
      "text/plain": [
       "9.3"
      ]
     },
     "execution_count": 52,
     "metadata": {},
     "output_type": "execute_result"
    }
   ],
   "source": [
    "# metodos de listas\n",
    "float_list"
   ]
  },
  {
   "cell_type": "code",
   "execution_count": null,
   "metadata": {},
   "outputs": [
    {
     "data": {
      "text/plain": [
       "['jose', 'maria', 'juan', 12, 14, 15, 20, 9.3]"
      ]
     },
     "execution_count": 55,
     "metadata": {},
     "output_type": "execute_result"
    }
   ],
   "source": [
    "list_1"
   ]
  },
  {
   "cell_type": "markdown",
   "metadata": {},
   "source": [
    "## Condicionales"
   ]
  },
  {
   "cell_type": "code",
   "execution_count": null,
   "metadata": {},
   "outputs": [],
   "source": [
    "#sintaxis de un condicional simple\n",
    "# if condicion:\n",
    "# operacion\n",
    "# condicion\n",
    "# mayor que >\n",
    "# menor que <\n",
    "# mayor igual >=\n",
    "# menor igual <=\n",
    "# diferente !=\n",
    "# igual? ==\n"
   ]
  },
  {
   "cell_type": "code",
   "execution_count": null,
   "metadata": {},
   "outputs": [
    {
     "name": "stdout",
     "output_type": "stream",
     "text": [
      "no es lunes\n"
     ]
    }
   ],
   "source": [
    "day = input (\"dia de la semana:\")\n",
    "if (day == \"lunes\"):\n",
    "    print(\"hoy lunes voy a trabajar\")\n",
    "else:\n",
    "    print (\"no es lunes\")"
   ]
  },
  {
   "cell_type": "code",
   "execution_count": null,
   "metadata": {},
   "outputs": [
    {
     "name": "stdout",
     "output_type": "stream",
     "text": [
      "no es lunes\n"
     ]
    }
   ],
   "source": [
    "#operadores logicos\n",
    "#and y or\n",
    "\n",
    "day = input (\"dia de la semana:\")\n",
    "momento_day = input(\"ingrese momento del dia: \")\n",
    "\n",
    "if (day == \"lunes\") or (momento_day == \"noche\"):\n",
    "    print(\"voy al cine 2x1\")\n",
    "else:\n",
    "    print (\"no es lunes\")"
   ]
  },
  {
   "cell_type": "markdown",
   "metadata": {},
   "source": [
    "estructura de datos:\n",
    "string\n",
    "int/float\n",
    "lista\n",
    "- tuplas.\n",
    "- diccionario\n",
    "\n",
    "estructura de control\n",
    "condicionales\n",
    "ciclos (finitos, infinitos)\n",
    "funciones\n",
    "\n"
   ]
  },
  {
   "cell_type": "code",
   "execution_count": 42,
   "metadata": {},
   "outputs": [],
   "source": [
    "# tuplas\n",
    "# elementos separados por una coma y encerrados en parentesis\n",
    "tupla_1 = (1, 2, 3, 4, 5)\n",
    "tupla_2 = (\"a\", \"b\", \"c\", \"d\", \"e\")"
   ]
  },
  {
   "cell_type": "code",
   "execution_count": 44,
   "metadata": {},
   "outputs": [
    {
     "data": {
      "text/plain": [
       "1"
      ]
     },
     "execution_count": 44,
     "metadata": {},
     "output_type": "execute_result"
    }
   ],
   "source": [
    "tupla_1 [0]"
   ]
  },
  {
   "cell_type": "code",
   "execution_count": 45,
   "metadata": {},
   "outputs": [],
   "source": [
    "# diccionario\n",
    "dict_1 = {\n",
    "    \"luis\": 1234,\n",
    "    \"pedro\": 5678,\n",
    "    \"juan\": 9012,\n",
    "\n",
    "}"
   ]
  },
  {
   "cell_type": "code",
   "execution_count": 47,
   "metadata": {},
   "outputs": [
    {
     "name": "stdout",
     "output_type": "stream",
     "text": [
      "9012\n"
     ]
    }
   ],
   "source": [
    "dict_1 [\"luis\"]\n",
    "print (dict_1 [\"juan\"])"
   ]
  },
  {
   "cell_type": "code",
   "execution_count": 49,
   "metadata": {},
   "outputs": [],
   "source": [
    "dic_2 = {\n",
    "    \"frutas\": \"manzanas\",\n",
    "    \"numeros\": [12, 24, 38],\n",
    "    \"pesos\": [1.5, 2, 3.4]\n",
    "}"
   ]
  },
  {
   "cell_type": "code",
   "execution_count": 50,
   "metadata": {},
   "outputs": [
    {
     "data": {
      "text/plain": [
       "[1.5, 2, 3.4]"
      ]
     },
     "execution_count": 50,
     "metadata": {},
     "output_type": "execute_result"
    }
   ],
   "source": [
    "dic_2 [\"pesos\"]"
   ]
  },
  {
   "cell_type": "code",
   "execution_count": 51,
   "metadata": {},
   "outputs": [
    {
     "name": "stdout",
     "output_type": "stream",
     "text": [
      "1\n",
      "2\n",
      "3\n"
     ]
    }
   ],
   "source": [
    "# cilos finitos \"for\"\n",
    "# sintaxis\n",
    "# for variable in secuencia:\n",
    "#    cuerpo del ciclo\n",
    "# la variable toma los valores de la secuencia en orden\n",
    "#secuencia: cadena, lista, tupla, conjunto\n",
    "for number in [1, 2, 3]:\n",
    "    print (number)"
   ]
  },
  {
   "cell_type": "code",
   "execution_count": 62,
   "metadata": {},
   "outputs": [
    {
     "name": "stdout",
     "output_type": "stream",
     "text": [
      "jose\n",
      "maria\n",
      "jesus\n",
      "no hay papa\n"
     ]
    }
   ],
   "source": [
    "names_list = [\"jose\", \"maria\", \"jesus\"]\n",
    "for name in names_list:\n",
    "   print (name)\n",
    "if (name == \"jose\"):\n",
    "   print (f\"{name} es papa\")\n",
    "else:\n",
    "   print (\"no hay papa\")"
   ]
  },
  {
   "cell_type": "code",
   "execution_count": 93,
   "metadata": {},
   "outputs": [
    {
     "name": "stdout",
     "output_type": "stream",
     "text": [
      "\"jose\" es papa\n",
      "\"jesus\" no es papa\n"
     ]
    }
   ],
   "source": [
    "for name in names_list: \n",
    "  if name == \"jose\":\n",
    "    print (f'\"{name}\" es papa')\n",
    "else:\n",
    "    print (f'\"{name}\" no es papa')"
   ]
  },
  {
   "cell_type": "code",
   "execution_count": 56,
   "metadata": {},
   "outputs": [
    {
     "name": "stdout",
     "output_type": "stream",
     "text": [
      "jose\n",
      "maria\n",
      "jesus\n"
     ]
    }
   ],
   "source": [
    "names_list = [\"jose\", \"maria\", \"jesus\"]\n",
    "for j in names_list:\n",
    "   print (j)\n"
   ]
  },
  {
   "cell_type": "markdown",
   "metadata": {},
   "source": [
    "### funciones"
   ]
  },
  {
   "cell_type": "code",
   "execution_count": null,
   "metadata": {},
   "outputs": [],
   "source": [
    "# sintaxis de una funcion en python\n",
    "\n",
    "#def name_function(parameters):\n",
    "#    \"\"\"\n",
    "#    documentacion de la fauncion\n",
    "#   \"\"\"\n",
    "#   # codigo de la funcion\n",
    "#   pass\n"
   ]
  },
  {
   "cell_type": "code",
   "execution_count": 108,
   "metadata": {},
   "outputs": [],
   "source": [
    "# funcion para sumar dos numeros\n",
    "def suma_dos(num_1, num_2):\n",
    "    \"\"\"\n",
    "    esta funcion suma dos numeros enteros\n",
    "    num_1: int\n",
    "    num_2: int\n",
    "    return: int\n",
    "    \"\"\"\n",
    "    result = num_1 + num_2\n",
    "    return result "
   ]
  },
  {
   "cell_type": "code",
   "execution_count": 109,
   "metadata": {},
   "outputs": [
    {
     "name": "stdout",
     "output_type": "stream",
     "text": [
      "25\n"
     ]
    }
   ],
   "source": [
    "print(suma_dos(12, 13))"
   ]
  },
  {
   "cell_type": "code",
   "execution_count": 104,
   "metadata": {},
   "outputs": [],
   "source": [
    "#funcion que reste dos numeros\n",
    "def resta_dos(num_1, num_2):\n",
    "    \"\"\"\n",
    "    esta funcion resta dos numeros enteros\n",
    "    num_1: int\n",
    "    num_2: int\n",
    "    return: int\n",
    "    \"\"\"\n",
    "    result = num_1 - num_2\n",
    "    return result "
   ]
  },
  {
   "cell_type": "code",
   "execution_count": 110,
   "metadata": {},
   "outputs": [
    {
     "data": {
      "text/plain": [
       "-3"
      ]
     },
     "execution_count": 110,
     "metadata": {},
     "output_type": "execute_result"
    }
   ],
   "source": [
    "resta_dos(num_2=23, num_1=20)"
   ]
  }
 ],
 "metadata": {
  "kernelspec": {
   "display_name": "Python 3",
   "language": "python",
   "name": "python3"
  },
  "language_info": {
   "codemirror_mode": {
    "name": "ipython",
    "version": 3
   },
   "file_extension": ".py",
   "mimetype": "text/x-python",
   "name": "python",
   "nbconvert_exporter": "python",
   "pygments_lexer": "ipython3",
   "version": "3.12.4"
  }
 },
 "nbformat": 4,
 "nbformat_minor": 2
}
